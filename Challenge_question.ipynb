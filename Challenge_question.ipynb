{
  "nbformat": 4,
  "nbformat_minor": 0,
  "metadata": {
    "colab": {
      "provenance": [],
      "authorship_tag": "ABX9TyMxwm8pUAzLKEDhq/ISpQab",
      "include_colab_link": true
    },
    "kernelspec": {
      "name": "python3",
      "display_name": "Python 3"
    },
    "language_info": {
      "name": "python"
    }
  },
  "cells": [
    {
      "cell_type": "markdown",
      "metadata": {
        "id": "view-in-github",
        "colab_type": "text"
      },
      "source": [
        "<a href=\"https://colab.research.google.com/github/Sneha-2045/Challenge-question--Sorting-the-list/blob/main/Challenge_question.ipynb\" target=\"_parent\"><img src=\"https://colab.research.google.com/assets/colab-badge.svg\" alt=\"Open In Colab\"/></a>"
      ]
    },
    {
      "cell_type": "code",
      "source": [
        "def custom_sort(L):\n",
        "    # Separate strings and integers into two lists\n",
        "    strings = [x for x in L if isinstance(x, str)]\n",
        "    integers = [x for x in L if isinstance(x, int)]\n",
        "\n",
        "    # Sort each list separately\n",
        "    strings.sort()\n",
        "    integers.sort()\n",
        "\n",
        "    # Interleave the sorted lists\n",
        "    sorted_list = []\n",
        "    i, j = 0, 0\n",
        "    while i < len(strings) and j < len(integers):\n",
        "        sorted_list.append(strings[i])\n",
        "        sorted_list.append(integers[j])\n",
        "        i += 1\n",
        "        j += 1\n",
        "\n",
        "    # Append any remaining elements from strings (if any)\n",
        "    sorted_list.extend(strings[i:])\n",
        "    # Append any remaining elements from integers (if any)\n",
        "    sorted_list.extend(integers[j:])\n",
        "\n",
        "    return sorted_list\n",
        "\n",
        "# Example usage:\n",
        "L = [\"Ram\", 1, \"Shyam\", 2, \"Aman\", 3]\n",
        "sorted_list = custom_sort(L)\n",
        "print(sorted_list)\n"
      ],
      "metadata": {
        "colab": {
          "base_uri": "https://localhost:8080/"
        },
        "id": "aAN3jkChnjGI",
        "outputId": "0f19f1cd-b1e4-43cb-8733-f9439bf41d78"
      },
      "execution_count": 4,
      "outputs": [
        {
          "output_type": "stream",
          "name": "stdout",
          "text": [
            "['Aman', 1, 'Ram', 2, 'Shyam', 3]\n"
          ]
        }
      ]
    }
  ]
}